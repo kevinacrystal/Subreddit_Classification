{
 "cells": [
  {
   "cell_type": "markdown",
   "metadata": {},
   "source": [
    "# Getting the Data\n",
    "- [Create Reddit Instance](#Creating-a-read-only-Reddit-Instance-with-PRAW)\n",
    "- [Scraping r/WritingPrompts](#Scraping-r/WritingPrompts-with-PRAW)\n",
    "- [Scraping r/ShowerThoughts](#Scraping-r/ShowerThoughts-with-PRAW)\n",
    "- [Create a Combined Dataframe](#Combining-the-two-dataframes-into-a-single-dataframe)"
   ]
  },
  {
   "cell_type": "markdown",
   "metadata": {},
   "source": [
    "## Creating a read only Reddit Instance with PRAW"
   ]
  },
  {
   "cell_type": "code",
   "execution_count": 2,
   "metadata": {},
   "outputs": [],
   "source": [
    "import pandas as pd\n",
    "import praw"
   ]
  },
  {
   "cell_type": "code",
   "execution_count": 3,
   "metadata": {},
   "outputs": [],
   "source": [
    "reddit = praw.Reddit(client_id='5pWFYyztFmLjMA',\n",
    "                     client_secret='KSgTw2thW4D1p74t2pOYIKYa5AQ',\n",
    "                     user_agent='bill')"
   ]
  },
  {
   "cell_type": "code",
   "execution_count": 2,
   "metadata": {},
   "outputs": [],
   "source": [
    "import pandas as pd\n",
    "import praw"
   ]
  },
  {
   "cell_type": "code",
   "execution_count": 3,
   "metadata": {},
   "outputs": [],
   "source": [
    "reddit = praw.Reddit(client_id='ENTER CLIENT ID HERE',\n",
    "                     client_secret='ENTER CLIENT SECRET HERE',\n",
    "                     user_agent='ENTER ANYTHING HERE')"
   ]
  },
  {
   "cell_type": "markdown",
   "metadata": {},
   "source": [
    "## Scraping r/WritingPrompts with PRAW"
   ]
  },
  {
   "cell_type": "code",
   "execution_count": 4,
   "metadata": {},
   "outputs": [
    {
     "data": {
      "text/plain": [
       "994"
      ]
     },
     "execution_count": 4,
     "metadata": {},
     "output_type": "execute_result"
    }
   ],
   "source": [
    "# creating a list of dictionaries for submissions to r/WritingPrompts\n",
    "# including title and subreddit columns\n",
    "wp_entries = []\n",
    "for submission in reddit.subreddit('writingprompts').new(limit=None):\n",
    "    temp = {}\n",
    "    temp['title'] = submission.title\n",
    "    temp['subreddit'] = submission.subreddit\n",
    "    wp_entries.append(temp)\n",
    "len(wp_entries)"
   ]
  },
  {
   "cell_type": "code",
   "execution_count": 5,
   "metadata": {},
   "outputs": [
    {
     "data": {
      "text/html": [
       "<div>\n",
       "<style scoped>\n",
       "    .dataframe tbody tr th:only-of-type {\n",
       "        vertical-align: middle;\n",
       "    }\n",
       "\n",
       "    .dataframe tbody tr th {\n",
       "        vertical-align: top;\n",
       "    }\n",
       "\n",
       "    .dataframe thead th {\n",
       "        text-align: right;\n",
       "    }\n",
       "</style>\n",
       "<table border=\"1\" class=\"dataframe\">\n",
       "  <thead>\n",
       "    <tr style=\"text-align: right;\">\n",
       "      <th></th>\n",
       "      <th>subreddit</th>\n",
       "      <th>title</th>\n",
       "    </tr>\n",
       "  </thead>\n",
       "  <tbody>\n",
       "    <tr>\n",
       "      <th>0</th>\n",
       "      <td>WritingPrompts</td>\n",
       "      <td>[WP] You are a C average student in high schoo...</td>\n",
       "    </tr>\n",
       "    <tr>\n",
       "      <th>1</th>\n",
       "      <td>WritingPrompts</td>\n",
       "      <td>[PI]A solar flare has mutated human blood to h...</td>\n",
       "    </tr>\n",
       "    <tr>\n",
       "      <th>2</th>\n",
       "      <td>WritingPrompts</td>\n",
       "      <td>[WP] You are responsible for looking after a r...</td>\n",
       "    </tr>\n",
       "    <tr>\n",
       "      <th>3</th>\n",
       "      <td>WritingPrompts</td>\n",
       "      <td>[WP] Doctors have found I way to measure happi...</td>\n",
       "    </tr>\n",
       "    <tr>\n",
       "      <th>4</th>\n",
       "      <td>WritingPrompts</td>\n",
       "      <td>[WP] You are a noble in a powerful kingdom. Th...</td>\n",
       "    </tr>\n",
       "  </tbody>\n",
       "</table>\n",
       "</div>"
      ],
      "text/plain": [
       "        subreddit                                              title\n",
       "0  WritingPrompts  [WP] You are a C average student in high schoo...\n",
       "1  WritingPrompts  [PI]A solar flare has mutated human blood to h...\n",
       "2  WritingPrompts  [WP] You are responsible for looking after a r...\n",
       "3  WritingPrompts  [WP] Doctors have found I way to measure happi...\n",
       "4  WritingPrompts  [WP] You are a noble in a powerful kingdom. Th..."
      ]
     },
     "execution_count": 5,
     "metadata": {},
     "output_type": "execute_result"
    }
   ],
   "source": [
    "# saving the list of dictionaries to a pandas dataframe\n",
    "# and displaying the first 5 rows\n",
    "wp_df = pd.DataFrame(wp_entries)\n",
    "wp_df.head()"
   ]
  },
  {
   "cell_type": "code",
   "execution_count": 6,
   "metadata": {},
   "outputs": [
    {
     "data": {
      "text/html": [
       "<div>\n",
       "<style scoped>\n",
       "    .dataframe tbody tr th:only-of-type {\n",
       "        vertical-align: middle;\n",
       "    }\n",
       "\n",
       "    .dataframe tbody tr th {\n",
       "        vertical-align: top;\n",
       "    }\n",
       "\n",
       "    .dataframe thead th {\n",
       "        text-align: right;\n",
       "    }\n",
       "</style>\n",
       "<table border=\"1\" class=\"dataframe\">\n",
       "  <thead>\n",
       "    <tr style=\"text-align: right;\">\n",
       "      <th></th>\n",
       "      <th>subreddit</th>\n",
       "      <th>title</th>\n",
       "    </tr>\n",
       "  </thead>\n",
       "  <tbody>\n",
       "    <tr>\n",
       "      <th>0</th>\n",
       "      <td>WritingPrompts</td>\n",
       "      <td>You are a C average student in high school, b...</td>\n",
       "    </tr>\n",
       "    <tr>\n",
       "      <th>1</th>\n",
       "      <td>WritingPrompts</td>\n",
       "      <td>[PI]A solar flare has mutated human blood to h...</td>\n",
       "    </tr>\n",
       "    <tr>\n",
       "      <th>2</th>\n",
       "      <td>WritingPrompts</td>\n",
       "      <td>You are responsible for looking after a retir...</td>\n",
       "    </tr>\n",
       "    <tr>\n",
       "      <th>3</th>\n",
       "      <td>WritingPrompts</td>\n",
       "      <td>Doctors have found I way to measure happiness...</td>\n",
       "    </tr>\n",
       "    <tr>\n",
       "      <th>4</th>\n",
       "      <td>WritingPrompts</td>\n",
       "      <td>You are a noble in a powerful kingdom. The ki...</td>\n",
       "    </tr>\n",
       "  </tbody>\n",
       "</table>\n",
       "</div>"
      ],
      "text/plain": [
       "        subreddit                                              title\n",
       "0  WritingPrompts   You are a C average student in high school, b...\n",
       "1  WritingPrompts  [PI]A solar flare has mutated human blood to h...\n",
       "2  WritingPrompts   You are responsible for looking after a retir...\n",
       "3  WritingPrompts   Doctors have found I way to measure happiness...\n",
       "4  WritingPrompts   You are a noble in a powerful kingdom. The ki..."
      ]
     },
     "execution_count": 6,
     "metadata": {},
     "output_type": "execute_result"
    }
   ],
   "source": [
    "# removing '[WP]' from the titles of the entries,\n",
    "# since it appears in almost every single one\n",
    "# and such an obvious token seems contrary to the spirit of the project\n",
    "wp_df['title'] = [i.replace('[WP]', '') for i in wp_df['title']]\n",
    "wp_df.head()"
   ]
  },
  {
   "cell_type": "code",
   "execution_count": 7,
   "metadata": {},
   "outputs": [],
   "source": [
    "# saving these 998 values to a csv\n",
    "wp_df.to_csv('./datasets/wp_df.csv', index=False)"
   ]
  },
  {
   "cell_type": "markdown",
   "metadata": {},
   "source": [
    "## Scraping r/ShowerThoughts with PRAW"
   ]
  },
  {
   "cell_type": "code",
   "execution_count": 8,
   "metadata": {},
   "outputs": [
    {
     "data": {
      "text/plain": [
       "998"
      ]
     },
     "execution_count": 8,
     "metadata": {},
     "output_type": "execute_result"
    }
   ],
   "source": [
    "# creating a list of dictionaries for submissions to r/ShowerThoughts\n",
    "# including title and subreddit columns\n",
    "st_entries = []\n",
    "for submission in reddit.subreddit('showerthoughts').new(limit=None):\n",
    "    temp = {}\n",
    "    temp['title'] = submission.title\n",
    "    temp['subreddit'] = submission.subreddit\n",
    "    st_entries.append(temp)\n",
    "len(st_entries)"
   ]
  },
  {
   "cell_type": "code",
   "execution_count": 9,
   "metadata": {},
   "outputs": [
    {
     "data": {
      "text/html": [
       "<div>\n",
       "<style scoped>\n",
       "    .dataframe tbody tr th:only-of-type {\n",
       "        vertical-align: middle;\n",
       "    }\n",
       "\n",
       "    .dataframe tbody tr th {\n",
       "        vertical-align: top;\n",
       "    }\n",
       "\n",
       "    .dataframe thead th {\n",
       "        text-align: right;\n",
       "    }\n",
       "</style>\n",
       "<table border=\"1\" class=\"dataframe\">\n",
       "  <thead>\n",
       "    <tr style=\"text-align: right;\">\n",
       "      <th></th>\n",
       "      <th>subreddit</th>\n",
       "      <th>title</th>\n",
       "    </tr>\n",
       "  </thead>\n",
       "  <tbody>\n",
       "    <tr>\n",
       "      <th>0</th>\n",
       "      <td>Showerthoughts</td>\n",
       "      <td>Hocking a loogie is like picking your nose and...</td>\n",
       "    </tr>\n",
       "    <tr>\n",
       "      <th>1</th>\n",
       "      <td>Showerthoughts</td>\n",
       "      <td>Literally any song is a road trip song.</td>\n",
       "    </tr>\n",
       "    <tr>\n",
       "      <th>2</th>\n",
       "      <td>Showerthoughts</td>\n",
       "      <td>Comic books in the Harry Potter universe are p...</td>\n",
       "    </tr>\n",
       "    <tr>\n",
       "      <th>3</th>\n",
       "      <td>Showerthoughts</td>\n",
       "      <td>If we’re all living in a simulation Blind and/...</td>\n",
       "    </tr>\n",
       "    <tr>\n",
       "      <th>4</th>\n",
       "      <td>Showerthoughts</td>\n",
       "      <td>If you want a girl to have sex with you , you ...</td>\n",
       "    </tr>\n",
       "  </tbody>\n",
       "</table>\n",
       "</div>"
      ],
      "text/plain": [
       "        subreddit                                              title\n",
       "0  Showerthoughts  Hocking a loogie is like picking your nose and...\n",
       "1  Showerthoughts            Literally any song is a road trip song.\n",
       "2  Showerthoughts  Comic books in the Harry Potter universe are p...\n",
       "3  Showerthoughts  If we’re all living in a simulation Blind and/...\n",
       "4  Showerthoughts  If you want a girl to have sex with you , you ..."
      ]
     },
     "execution_count": 9,
     "metadata": {},
     "output_type": "execute_result"
    }
   ],
   "source": [
    "# saving the list of dictionaries to a pandas dataframe\n",
    "# and displaying the first 5 rows\n",
    "st_df = pd.DataFrame(st_entries)\n",
    "st_df.head()"
   ]
  },
  {
   "cell_type": "code",
   "execution_count": 10,
   "metadata": {},
   "outputs": [],
   "source": [
    "# saving these 998 values to a csv\n",
    "st_df.to_csv('./datasets/st_df.csv', index=False)"
   ]
  },
  {
   "cell_type": "markdown",
   "metadata": {},
   "source": [
    "## Combining the two dataframes into a single dataframe"
   ]
  },
  {
   "cell_type": "code",
   "execution_count": 11,
   "metadata": {},
   "outputs": [],
   "source": [
    "# combine the dataframes with concat\n",
    "combined_df = pd.concat([wp_df, st_df], ignore_index=True)"
   ]
  },
  {
   "cell_type": "code",
   "execution_count": 12,
   "metadata": {},
   "outputs": [
    {
     "data": {
      "text/html": [
       "<div>\n",
       "<style scoped>\n",
       "    .dataframe tbody tr th:only-of-type {\n",
       "        vertical-align: middle;\n",
       "    }\n",
       "\n",
       "    .dataframe tbody tr th {\n",
       "        vertical-align: top;\n",
       "    }\n",
       "\n",
       "    .dataframe thead th {\n",
       "        text-align: right;\n",
       "    }\n",
       "</style>\n",
       "<table border=\"1\" class=\"dataframe\">\n",
       "  <thead>\n",
       "    <tr style=\"text-align: right;\">\n",
       "      <th></th>\n",
       "      <th>subreddit</th>\n",
       "      <th>title</th>\n",
       "    </tr>\n",
       "  </thead>\n",
       "  <tbody>\n",
       "    <tr>\n",
       "      <th>0</th>\n",
       "      <td>WritingPrompts</td>\n",
       "      <td>You are a C average student in high school, b...</td>\n",
       "    </tr>\n",
       "    <tr>\n",
       "      <th>1</th>\n",
       "      <td>WritingPrompts</td>\n",
       "      <td>[PI]A solar flare has mutated human blood to h...</td>\n",
       "    </tr>\n",
       "    <tr>\n",
       "      <th>2</th>\n",
       "      <td>WritingPrompts</td>\n",
       "      <td>You are responsible for looking after a retir...</td>\n",
       "    </tr>\n",
       "    <tr>\n",
       "      <th>3</th>\n",
       "      <td>WritingPrompts</td>\n",
       "      <td>Doctors have found I way to measure happiness...</td>\n",
       "    </tr>\n",
       "    <tr>\n",
       "      <th>4</th>\n",
       "      <td>WritingPrompts</td>\n",
       "      <td>You are a noble in a powerful kingdom. The ki...</td>\n",
       "    </tr>\n",
       "  </tbody>\n",
       "</table>\n",
       "</div>"
      ],
      "text/plain": [
       "        subreddit                                              title\n",
       "0  WritingPrompts   You are a C average student in high school, b...\n",
       "1  WritingPrompts  [PI]A solar flare has mutated human blood to h...\n",
       "2  WritingPrompts   You are responsible for looking after a retir...\n",
       "3  WritingPrompts   Doctors have found I way to measure happiness...\n",
       "4  WritingPrompts   You are a noble in a powerful kingdom. The ki..."
      ]
     },
     "execution_count": 12,
     "metadata": {},
     "output_type": "execute_result"
    }
   ],
   "source": [
    "# check out the head\n",
    "combined_df.head()"
   ]
  },
  {
   "cell_type": "code",
   "execution_count": 13,
   "metadata": {},
   "outputs": [
    {
     "data": {
      "text/html": [
       "<div>\n",
       "<style scoped>\n",
       "    .dataframe tbody tr th:only-of-type {\n",
       "        vertical-align: middle;\n",
       "    }\n",
       "\n",
       "    .dataframe tbody tr th {\n",
       "        vertical-align: top;\n",
       "    }\n",
       "\n",
       "    .dataframe thead th {\n",
       "        text-align: right;\n",
       "    }\n",
       "</style>\n",
       "<table border=\"1\" class=\"dataframe\">\n",
       "  <thead>\n",
       "    <tr style=\"text-align: right;\">\n",
       "      <th></th>\n",
       "      <th>subreddit</th>\n",
       "      <th>title</th>\n",
       "    </tr>\n",
       "  </thead>\n",
       "  <tbody>\n",
       "    <tr>\n",
       "      <th>1987</th>\n",
       "      <td>Showerthoughts</td>\n",
       "      <td>It's hard to make something unique without eit...</td>\n",
       "    </tr>\n",
       "    <tr>\n",
       "      <th>1988</th>\n",
       "      <td>Showerthoughts</td>\n",
       "      <td>The odds of flipping a cling probably aren't e...</td>\n",
       "    </tr>\n",
       "    <tr>\n",
       "      <th>1989</th>\n",
       "      <td>Showerthoughts</td>\n",
       "      <td>Clothes in China probably have “Made Around th...</td>\n",
       "    </tr>\n",
       "    <tr>\n",
       "      <th>1990</th>\n",
       "      <td>Showerthoughts</td>\n",
       "      <td>You could theoretically make diamonds from tre...</td>\n",
       "    </tr>\n",
       "    <tr>\n",
       "      <th>1991</th>\n",
       "      <td>Showerthoughts</td>\n",
       "      <td>A whole new universe unlocks after you figure ...</td>\n",
       "    </tr>\n",
       "  </tbody>\n",
       "</table>\n",
       "</div>"
      ],
      "text/plain": [
       "           subreddit                                              title\n",
       "1987  Showerthoughts  It's hard to make something unique without eit...\n",
       "1988  Showerthoughts  The odds of flipping a cling probably aren't e...\n",
       "1989  Showerthoughts  Clothes in China probably have “Made Around th...\n",
       "1990  Showerthoughts  You could theoretically make diamonds from tre...\n",
       "1991  Showerthoughts  A whole new universe unlocks after you figure ..."
      ]
     },
     "execution_count": 13,
     "metadata": {},
     "output_type": "execute_result"
    }
   ],
   "source": [
    "# check out the tail\n",
    "combined_df.tail()"
   ]
  },
  {
   "cell_type": "code",
   "execution_count": 14,
   "metadata": {},
   "outputs": [
    {
     "data": {
      "text/plain": [
       "Showerthoughts    998\n",
       "WritingPrompts    994\n",
       "Name: subreddit, dtype: int64"
      ]
     },
     "execution_count": 14,
     "metadata": {},
     "output_type": "execute_result"
    }
   ],
   "source": [
    "# check that we have an equal number of observations\n",
    "# from each subreddit\n",
    "combined_df.subreddit.value_counts()"
   ]
  },
  {
   "cell_type": "code",
   "execution_count": 15,
   "metadata": {},
   "outputs": [],
   "source": [
    "# saving the combined dataframe to csv\n",
    "combined_df.to_csv('./datasets/combined_df.csv', index=False)"
   ]
  }
 ],
 "metadata": {
  "kernelspec": {
   "display_name": "Python 3",
   "language": "python",
   "name": "python3"
  },
  "language_info": {
   "codemirror_mode": {
    "name": "ipython",
    "version": 3
   },
   "file_extension": ".py",
   "mimetype": "text/x-python",
   "name": "python",
   "nbconvert_exporter": "python",
   "pygments_lexer": "ipython3",
   "version": "3.6.8"
  }
 },
 "nbformat": 4,
 "nbformat_minor": 2
}
